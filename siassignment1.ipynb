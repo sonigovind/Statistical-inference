{
  "nbformat": 4,
  "nbformat_minor": 5,
  "metadata": {
    "kernelspec": {
      "display_name": "Python 3",
      "language": "python",
      "name": "python3"
    },
    "language_info": {
      "codemirror_mode": {
        "name": "ipython",
        "version": 3
      },
      "file_extension": ".py",
      "mimetype": "text/x-python",
      "name": "python",
      "nbconvert_exporter": "python",
      "pygments_lexer": "ipython3",
      "version": "3.9.1"
    },
    "toc": {
      "base_numbering": 1,
      "nav_menu": {},
      "number_sections": true,
      "sideBar": true,
      "skip_h1_title": false,
      "title_cell": "Table of Contents",
      "title_sidebar": "Contents",
      "toc_cell": false,
      "toc_position": {},
      "toc_section_display": true,
      "toc_window_display": false
    },
    "varInspector": {
      "cols": {
        "lenName": 16,
        "lenType": 16,
        "lenVar": 40
      },
      "kernels_config": {
        "python": {
          "delete_cmd_postfix": "",
          "delete_cmd_prefix": "del ",
          "library": "var_list.py",
          "varRefreshCmd": "print(var_dic_list())"
        },
        "r": {
          "delete_cmd_postfix": ") ",
          "delete_cmd_prefix": "rm(",
          "library": "var_list.r",
          "varRefreshCmd": "cat(var_dic_list()) "
        }
      },
      "types_to_exclude": [
        "module",
        "function",
        "builtin_function_or_method",
        "instance",
        "_Feature"
      ],
      "window_display": false
    },
    "colab": {
      "name": "siassignment1.ipynb",
      "provenance": [],
      "collapsed_sections": []
    }
  },
  "cells": [
    {
      "cell_type": "code",
      "metadata": {
        "id": "integral-norman"
      },
      "source": [
        "import pandas as pd\n",
        "import numpy as np\n",
        "import seaborn as sns\n",
        "import matplotlib.pyplot as plt\n",
        "%matplotlib inline\n",
        "sns.set(style='darkgrid')\n",
        "import statistics"
      ],
      "id": "integral-norman",
      "execution_count": 1,
      "outputs": []
    },
    {
      "cell_type": "code",
      "metadata": {
        "colab": {
          "base_uri": "https://localhost:8080/",
          "height": 205
        },
        "id": "muslim-azerbaijan",
        "outputId": "e7e1b7ff-87ac-4c96-d1f8-24cb538fb5f0"
      },
      "source": [
        "data = pd.DataFrame(pd.read_excel('/content/500_Person_Gender_Height_Weight_Index (1).csv'))\n",
        "data.head()"
      ],
      "id": "muslim-azerbaijan",
      "execution_count": 3,
      "outputs": [
        {
          "output_type": "execute_result",
          "data": {
            "text/html": [
              "<div>\n",
              "<style scoped>\n",
              "    .dataframe tbody tr th:only-of-type {\n",
              "        vertical-align: middle;\n",
              "    }\n",
              "\n",
              "    .dataframe tbody tr th {\n",
              "        vertical-align: top;\n",
              "    }\n",
              "\n",
              "    .dataframe thead th {\n",
              "        text-align: right;\n",
              "    }\n",
              "</style>\n",
              "<table border=\"1\" class=\"dataframe\">\n",
              "  <thead>\n",
              "    <tr style=\"text-align: right;\">\n",
              "      <th></th>\n",
              "      <th>Gender</th>\n",
              "      <th>Height</th>\n",
              "      <th>Weight</th>\n",
              "      <th>Index</th>\n",
              "    </tr>\n",
              "  </thead>\n",
              "  <tbody>\n",
              "    <tr>\n",
              "      <th>0</th>\n",
              "      <td>Male</td>\n",
              "      <td>174</td>\n",
              "      <td>96</td>\n",
              "      <td>4</td>\n",
              "    </tr>\n",
              "    <tr>\n",
              "      <th>1</th>\n",
              "      <td>Male</td>\n",
              "      <td>189</td>\n",
              "      <td>87</td>\n",
              "      <td>2</td>\n",
              "    </tr>\n",
              "    <tr>\n",
              "      <th>2</th>\n",
              "      <td>Female</td>\n",
              "      <td>185</td>\n",
              "      <td>110</td>\n",
              "      <td>4</td>\n",
              "    </tr>\n",
              "    <tr>\n",
              "      <th>3</th>\n",
              "      <td>Female</td>\n",
              "      <td>195</td>\n",
              "      <td>104</td>\n",
              "      <td>3</td>\n",
              "    </tr>\n",
              "    <tr>\n",
              "      <th>4</th>\n",
              "      <td>Male</td>\n",
              "      <td>149</td>\n",
              "      <td>61</td>\n",
              "      <td>3</td>\n",
              "    </tr>\n",
              "  </tbody>\n",
              "</table>\n",
              "</div>"
            ],
            "text/plain": [
              "   Gender  Height  Weight  Index\n",
              "0    Male     174      96      4\n",
              "1    Male     189      87      2\n",
              "2  Female     185     110      4\n",
              "3  Female     195     104      3\n",
              "4    Male     149      61      3"
            ]
          },
          "metadata": {
            "tags": []
          },
          "execution_count": 3
        }
      ]
    },
    {
      "cell_type": "code",
      "metadata": {
        "id": "aggressive-tulsa"
      },
      "source": [
        "reps = 1000\n",
        "n = 500"
      ],
      "id": "aggressive-tulsa",
      "execution_count": 4,
      "outputs": []
    },
    {
      "cell_type": "code",
      "metadata": {
        "colab": {
          "base_uri": "https://localhost:8080/",
          "height": 369
        },
        "id": "capable-elite",
        "outputId": "2661e964-18f1-44d5-d186-130613486229"
      },
      "source": [
        "sns.displot(chunk_mean, element='step')\n",
        "plt.axvline(final_mean, color='orange', linestyle='dashed')\n",
        "plt.legend([f'''Mean {np.round(final_mean, 2)}'''])\n",
        "plt.show()"
      ],
      "id": "capable-elite",
      "execution_count": 7,
      "outputs": [
        {
          "output_type": "display_data",
          "data": {
            "image/png": "[encoded data removed]",
            "text/plain": [
              "<Figure size 360x360 with 1 Axes>"
            ]
          },
          "metadata": {
            "tags": [],
            "needs_background": "light"
          }
        }
      ]
    },
    {
      "cell_type": "code",
      "metadata": {
        "colab": {
          "base_uri": "https://localhost:8080/"
        },
        "id": "acoustic-membership",
        "outputId": "fd01606e-4edb-46f8-e2b2-02eb90887639"
      },
      "source": [
        "chunk_var =[]\n",
        "for _ in range(reps):\n",
        "    chunk_var.append(statistics.pvariance(np.random.choice(data['Height'], n)))\n",
        "    \n",
        "final_var = statistics.pvariance(chunk_var)\n",
        "final_var"
      ],
      "id": "acoustic-membership",
      "execution_count": 8,
      "outputs": [
        {
          "output_type": "execute_result",
          "data": {
            "text/plain": [
              "118"
            ]
          },
          "metadata": {
            "tags": []
          },
          "execution_count": 8
        }
      ]
    },
    {
      "cell_type": "code",
      "metadata": {
        "colab": {
          "base_uri": "https://localhost:8080/"
        },
        "id": "behind-nirvana",
        "outputId": "37734682-e3d7-485f-a4cd-34d2ace77b51"
      },
      "source": [
        "variance = statistics.pvariance(data['Height'])\n",
        "mean = statistics.mean(data['Height'])\n",
        "std = statistics.stdev(data['Height'])\n",
        "print(f'''Mean - {mean} ||  variance - {variance}  ||  std - {std}''')"
      ],
      "id": "behind-nirvana",
      "execution_count": 9,
      "outputs": [
        {
          "output_type": "stream",
          "text": [
            "Mean - 169.944 ||  variance - 267.612864  ||  std - 16.375260679593755\n"
          ],
          "name": "stdout"
        }
      ]
    },
    {
      "cell_type": "markdown",
      "metadata": {
        "id": "attended-sigma"
      },
      "source": [
        "Normal Distribution"
      ],
      "id": "attended-sigma"
    },
    {
      "cell_type": "code",
      "metadata": {
        "id": "brutal-joyce"
      },
      "source": [
        "normal_chunk_mean =[]\n",
        "for _ in range(reps):\n",
        "    normal_chunk_mean.append(np.mean(np.random.normal(170, 16.37, 50)))\n",
        "    \n",
        "final_mean=np.mean(normal_chunk_mean)"
      ],
      "id": "brutal-joyce",
      "execution_count": 19,
      "outputs": []
    },
    {
      "cell_type": "code",
      "metadata": {
        "colab": {
          "base_uri": "https://localhost:8080/",
          "height": 369
        },
        "id": "wyXYn-8lto23",
        "outputId": "987be700-11a1-4ca7-d201-9f36f8863c38"
      },
      "source": [
        "sns.displot(normal_chunk_mean, element='step')\n",
        "plt.axvline(final_mean, color='orange', linestyle='dashed')\n",
        "plt.legend([f'''Mean {np.round(final_mean, 2)}'''])\n",
        "plt.show()"
      ],
      "id": "wyXYn-8lto23",
      "execution_count": 20,
      "outputs": [
        {
          "output_type": "display_data",
          "data": {
            "image/png": "[encoded data removed]",
            "text/plain": [
              "<Figure size 360x360 with 1 Axes>"
            ]
          },
          "metadata": {
            "tags": [],
            "needs_background": "light"
          }
        }
      ]
    },
    {
      "cell_type": "code",
      "metadata": {
        "colab": {
          "base_uri": "https://localhost:8080/"
        },
        "id": "average-petroleum",
        "outputId": "574f335c-987a-40b8-c692-8b3a46384240"
      },
      "source": [
        "normal_chunk_var =[]\n",
        "for _ in range(reps):\n",
        "    normal_chunk_var.append(statistics.pvariance(np.random.normal(170, 16.37, 50)))\n",
        "    \n",
        "np.mean(normal_chunk_var)"
      ],
      "id": "average-petroleum",
      "execution_count": 11,
      "outputs": [
        {
          "output_type": "execute_result",
          "data": {
            "text/plain": [
              "259.9673001565285"
            ]
          },
          "metadata": {
            "tags": []
          },
          "execution_count": 11
        }
      ]
    },
    {
      "cell_type": "code",
      "metadata": {
        "id": "considered-cedar"
      },
      "source": [
        "normal_chunk_std =[]\n",
        "for _ in range(reps):\n",
        "    normal_chunk_std.append(statistics.stdev(np.random.normal(170, 16.37, 50)))\n",
        "    \n",
        "final_std=np.mean(normal_chunk_std)"
      ],
      "id": "considered-cedar",
      "execution_count": 21,
      "outputs": []
    },
    {
      "cell_type": "code",
      "metadata": {
        "colab": {
          "base_uri": "https://localhost:8080/",
          "height": 369
        },
        "id": "clinical-surgeon",
        "outputId": "099da6df-165a-4e81-cb80-d792a924f18c"
      },
      "source": [
        "sns.displot(normal_chunk_std, element='step')\n",
        "plt.axvline(final_mean, color='orange', linestyle='dashed')\n",
        "plt.legend([f'''Mean {np.round(final_std, 2)}'''])\n",
        "plt.show()"
      ],
      "id": "clinical-surgeon",
      "execution_count": 22,
      "outputs": [
        {
          "output_type": "display_data",
          "data": {
            "image/png": "[encoded data removed]",
            "text/plain": [
              "<Figure size 360x360 with 1 Axes>"
            ]
          },
          "metadata": {
            "tags": [],
            "needs_background": "light"
          }
        }
      ]
    },
    {
      "cell_type": "code",
      "metadata": {
        "colab": {
          "base_uri": "https://localhost:8080/"
        },
        "id": "occupational-grass",
        "outputId": "c239b31f-3581-439b-ef7a-c8ab7efc6705"
      },
      "source": [
        "from statsmodels.stats.weightstats import ztest "
      ],
      "id": "occupational-grass",
      "execution_count": 13,
      "outputs": [
        {
          "output_type": "stream",
          "text": [
            "/usr/local/lib/python3.7/dist-packages/statsmodels/tools/_testing.py:19: FutureWarning: pandas.util.testing is deprecated. Use the functions in the public API at pandas.testing instead.\n",
            "  import pandas.util.testing as tm\n"
          ],
          "name": "stderr"
        }
      ]
    },
    {
      "cell_type": "code",
      "metadata": {
        "colab": {
          "base_uri": "https://localhost:8080/"
        },
        "id": "leading-scotland",
        "outputId": "fe2af746-881e-4f57-ecbd-df7e6970354d"
      },
      "source": [
        "z_value, p_value = ztest(data['Height'], value=169.97, alternative='smaller')\n",
        "print(f'''P-Value: {p_value} || z-Value: {z_value}''')"
      ],
      "id": "leading-scotland",
      "execution_count": 18,
      "outputs": [
        {
          "output_type": "stream",
          "text": [
            "P-Value: 0.4858391616949968 || z-Value: -0.03550341490897123\n"
          ],
          "name": "stdout"
        }
      ]
    },
    {
      "cell_type": "code",
      "metadata": {
        "colab": {
          "base_uri": "https://localhost:8080/"
        },
        "id": "attractive-tomorrow",
        "outputId": "302a8363-edaf-4750-f0ba-5defb3375953"
      },
      "source": [
        "if p_value <0.05:\n",
        "    print(\"Reject hypothesis\")\n",
        "else:\n",
        "    print(\"Accpet hypothesis\")"
      ],
      "id": "attractive-tomorrow",
      "execution_count": 15,
      "outputs": [
        {
          "output_type": "stream",
          "text": [
            "Accpet hypothesis\n"
          ],
          "name": "stdout"
        }
      ]
    },
    {
      "cell_type": "code",
      "metadata": {
        "id": "distinct-dancing"
      },
      "source": [
        ""
      ],
      "id": "distinct-dancing",
      "execution_count": null,
      "outputs": []
    }
  ]
}